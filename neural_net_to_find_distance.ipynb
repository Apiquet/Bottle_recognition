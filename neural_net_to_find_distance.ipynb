{
 "cells": [
  {
   "cell_type": "code",
   "execution_count": 213,
   "metadata": {},
   "outputs": [],
   "source": [
    "import torch\n",
    "from torch import nn\n",
    "from torch import Tensor\n",
    "\n",
    "# device\n",
    "device = torch.device('cuda' if torch.cuda.is_available() else 'cpu')\n",
    "\n",
    "# number of epoch\n",
    "num_epochs = 25\n",
    "# batch size to compute mini-batch\n",
    "batch_size = 1\n",
    "# number of pixels in the image \n",
    "input_size = 2\n",
    "# number of possible digit: 0 to 9 \n",
    "num_class = 1\n",
    "# small step to find a minima\n",
    "learning_rate = 0.004\n",
    "# hidden size\n",
    "hidden_size = 500\n",
    "\n",
    "# Fully connected neural network\n",
    "class NeuralNet(nn.Module):\n",
    "    def __init__(self, input_size, hidden_size, num_class):\n",
    "        super(NeuralNet, self).__init__()\n",
    "        self.layer1 = nn.Linear(input_size, hidden_size) \n",
    "        self.relu = nn.ReLU() \n",
    "        self.layer2 = nn.Linear(hidden_size, hidden_size) \n",
    "        self.layer3 = nn.Linear(hidden_size, hidden_size)  \n",
    "        self.layer4 = nn.Linear(hidden_size, num_class) \n",
    "    \n",
    "    def forward(self, x):\n",
    "        outputs = self.layer1(x)\n",
    "        outputs = self.relu(outputs)\n",
    "        outputs = self.layer2(outputs)\n",
    "        outputs = self.relu(outputs)\n",
    "        outputs = self.layer3(outputs)\n",
    "        outputs = self.relu(outputs)\n",
    "        outputs = self.layer4(outputs)\n",
    "        return outputs\n",
    "    "
   ]
  },
  {
   "cell_type": "code",
   "execution_count": 214,
   "metadata": {},
   "outputs": [],
   "source": [
    "# function to train each model\n",
    "def train_model(model_, my_train_input_, my_train_target_, criterion_, optimizer_,num_epochs_,batch_size_):\n",
    "    # getting start time of train to get the train time at the end thanks to \"end_time\"\n",
    "    start_time = datetime.datetime.now()\n",
    "    # list to get train errors at each epoch\n",
    "    train_error = []\n",
    "    # train function\n",
    "    for epoch in range(1, num_epochs_+1):\n",
    "        # using technique of mini batch (size of the batch in the function's parameters)\n",
    "        for i in range(int(len(my_train_input_)/batch_size_)):  \n",
    "            # getting images and labels in right format\n",
    "            x = my_train_input_.narrow(0,i*batch_size_,batch_size_).to(device)\n",
    "            labels = my_train_target_.narrow(0,i*batch_size_,batch_size_).to(device)\n",
    "\n",
    "            # Forward pass\n",
    "            outputs = model_(x)\n",
    "            loss = criterion_(outputs, labels)\n",
    "\n",
    "            # Backward and optimize\n",
    "            optimizer_.zero_grad()\n",
    "            loss.backward()\n",
    "            optimizer_.step()\n",
    "            # getting train error at each epoch\n",
    "            train_error.append(test_accuracy(model_, my_train_input_, my_train_target_))\n",
    "        # getting end time and training time\n",
    "        end_time = datetime.datetime.now()\n",
    "        training_time = end_time - start_time\n",
    "        print ('Loss: {:.4f} on epoch: {}, train error: {:.5f}'.format(loss.item(),epoch,train_error[-1]))\n",
    "    return train_error, training_time"
   ]
  },
  {
   "cell_type": "code",
   "execution_count": 215,
   "metadata": {},
   "outputs": [],
   "source": [
    "def test_accuracy(model_, my_test_input_, my_test_target_):\n",
    "    total = my_test_input_.size(0)\n",
    "    outputs = model_(my_test_input_)\n",
    "    #print(outputs)\n",
    "    #print(my_test_target_)\n",
    "    well_predicted_count = (outputs == my_test_target_).sum().item()\n",
    "\n",
    "    return 1 - well_predicted_count / total"
   ]
  },
  {
   "cell_type": "code",
   "execution_count": 216,
   "metadata": {},
   "outputs": [
    {
     "name": "stdout",
     "output_type": "stream",
     "text": [
      "tensor([[469.0000,   3.2100],\n",
      "        [294.0000,   3.2700],\n",
      "        [202.0000,   3.2000],\n",
      "        [154.0000,   3.2800],\n",
      "        [119.0000,   3.4000],\n",
      "        [ 97.0000,   3.2300],\n",
      "        [ 76.0000,   3.3000],\n",
      "        [ 66.0000,   3.0000],\n",
      "        [ 59.0000,   2.9500],\n",
      "        [ 51.0000,   3.0000]], dtype=torch.float64)\n",
      "tensor([[ 30],\n",
      "        [ 50],\n",
      "        [ 70],\n",
      "        [100],\n",
      "        [130],\n",
      "        [160],\n",
      "        [200],\n",
      "        [230],\n",
      "        [260],\n",
      "        [300]], dtype=torch.int32)\n"
     ]
    }
   ],
   "source": [
    "import numpy\n",
    "data_x = numpy.matrix([[469,3.21],[294,3.27],[202,3.2],[154,3.28],[119,3.4],[97,3.23],[76, 3.3],[66,3],[59,2.95],[51,3]])\n",
    "data_y = numpy.matrix([[30],[50],[70],[100],[130],[160],[200],[230],[260],[300]])\n",
    "input_ = torch.from_numpy(data_x)\n",
    "target_ = torch.from_numpy(data_y)\n",
    "\n",
    "print(input_)\n",
    "print(target_)"
   ]
  },
  {
   "cell_type": "code",
   "execution_count": null,
   "metadata": {},
   "outputs": [],
   "source": [
    "model = NeuralNet(input_size, hidden_size, num_class).to(device)\n",
    "criterion = nn.L1Loss()\n",
    "optimizer = torch.optim.SGD(model.parameters(), lr=0.00001)  \n",
    "train_error, training_time = train_model(model, input_.float(), target_.float(), criterion, optimizer,num_epochs,batch_size)"
   ]
  },
  {
   "cell_type": "code",
   "execution_count": null,
   "metadata": {},
   "outputs": [],
   "source": [
    "model(Tensor([51,3]))"
   ]
  }
 ],
 "metadata": {
  "kernelspec": {
   "display_name": "Python 3",
   "language": "python",
   "name": "python3"
  },
  "language_info": {
   "codemirror_mode": {
    "name": "ipython",
    "version": 3
   },
   "file_extension": ".py",
   "mimetype": "text/x-python",
   "name": "python",
   "nbconvert_exporter": "python",
   "pygments_lexer": "ipython3",
   "version": "3.6.5"
  }
 },
 "nbformat": 4,
 "nbformat_minor": 2
}
